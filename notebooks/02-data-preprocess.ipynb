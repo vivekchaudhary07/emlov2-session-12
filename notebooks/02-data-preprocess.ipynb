{
 "cells": [
  {
   "cell_type": "code",
   "execution_count": 2,
   "id": "1545498a-2c83-4d69-b44a-df08fc17c2b1",
   "metadata": {
    "tags": []
   },
   "outputs": [
    {
     "name": "stdout",
     "output_type": "stream",
     "text": [
      "\u001b[33mWARNING: Running pip as the 'root' user can result in broken permissions and conflicting behaviour with the system package manager. It is recommended to use a virtual environment instead: https://pip.pypa.io/warnings/venv\u001b[0m\u001b[33m\n",
      "\u001b[0m\n",
      "\u001b[1m[\u001b[0m\u001b[34;49mnotice\u001b[0m\u001b[1;39;49m]\u001b[0m\u001b[39;49m A new release of pip available: \u001b[0m\u001b[31;49m22.2.2\u001b[0m\u001b[39;49m -> \u001b[0m\u001b[32;49m22.3.1\u001b[0m\n",
      "\u001b[1m[\u001b[0m\u001b[34;49mnotice\u001b[0m\u001b[1;39;49m]\u001b[0m\u001b[39;49m To update, run: \u001b[0m\u001b[32;49mpip install --upgrade pip\u001b[0m\n"
     ]
    }
   ],
   "source": [
    "! pip install --quiet git-remote-codecommit"
   ]
  },
  {
   "cell_type": "code",
   "execution_count": 3,
   "id": "c2b10f4c-0b06-4f84-8284-d0a470781a0c",
   "metadata": {
    "tags": []
   },
   "outputs": [
    {
     "name": "stdout",
     "output_type": "stream",
     "text": [
      "account: 294495367161\n",
      "bucket: sagemaker-ap-south-1-294495367161\n",
      "region: ap-south-1\n",
      "role: arn:aws:iam::294495367161:role/service-role/AmazonSageMaker-ExecutionRole-20221204T133204\n"
     ]
    }
   ],
   "source": [
    "import boto3\n",
    "import sagemaker\n",
    "import time\n",
    "from time import strftime\n",
    "\n",
    "boto_session = boto3.Session()\n",
    "sagemaker_session = sagemaker.Session(boto_session=boto_session)\n",
    "sm_client = boto3.client(\"sagemaker\")\n",
    "region = boto_session.region_name\n",
    "bucket = sagemaker_session.default_bucket()\n",
    "role = sagemaker.get_execution_role()\n",
    "account = sagemaker_session.boto_session.client(\"sts\").get_caller_identity()[\"Account\"]\n",
    "\n",
    "prefix = \"sagemaker-intelimage-dvc\"\n",
    "\n",
    "print(f\"account: {account}\")\n",
    "print(f\"bucket: {bucket}\")\n",
    "print(f\"region: {region}\")\n",
    "print(f\"role: {role}\")"
   ]
  },
  {
   "cell_type": "code",
   "execution_count": 4,
   "id": "3aef066b-3eb8-4e9c-b8ca-e1fec9ef7201",
   "metadata": {
    "tags": []
   },
   "outputs": [],
   "source": [
    "from sagemaker.pytorch.processing import PyTorchProcessor\n",
    "from sagemaker.processing import ProcessingInput, ProcessingOutput\n",
    "from sagemaker import get_execution_role"
   ]
  },
  {
   "cell_type": "code",
   "execution_count": 5,
   "id": "fd9d2589-c0e3-4d41-9ecf-7d95eb8f3925",
   "metadata": {
    "tags": []
   },
   "outputs": [],
   "source": [
    "dvc_repo_url = \"codecommit::ap-south-1://sagemaker-imageclf\"\n",
    "dvc_branch = \"processed-dataset\""
   ]
  },
  {
   "cell_type": "code",
   "execution_count": 15,
   "id": "722e3204-ce72-40e3-9903-2a0f7415c676",
   "metadata": {
    "tags": []
   },
   "outputs": [],
   "source": [
    "pytorch_processor = PyTorchProcessor(\n",
    "    framework_version=\"1.12\",\n",
    "    py_version=\"py38\",\n",
    "    image_uri=\"294495367161.dkr.ecr.ap-south-1.amazonaws.com/sagemaker:latest\",\n",
    "    role=get_execution_role(),\n",
    "    instance_type=\"ml.t3.xlarge\",\n",
    "    instance_count=1,\n",
    "    base_job_name=\"preprocess-intel-dataset\",\n",
    "    env={\n",
    "        \"DVC_REPO_URL\": dvc_repo_url,\n",
    "        \"DVC_BRANCH\": dvc_branch,\n",
    "        \"GIT_USER\": \"Vivek Chaudhary\",\n",
    "        \"GIT_EMAIL\": \"vivek.experiotech@gmail.com\",\n",
    "    },\n",
    ")"
   ]
  },
  {
   "cell_type": "code",
   "execution_count": 16,
   "id": "49d3779c-5211-4f51-9670-22d2b6287125",
   "metadata": {
    "tags": []
   },
   "outputs": [],
   "source": [
    "input_dataset = \"s3://sagemaker-ap-south-1-294495367161/intel_imageclf.zip\""
   ]
  },
  {
   "cell_type": "code",
   "execution_count": 17,
   "id": "96f0634c-96e4-45d8-a14e-1e25a7dbcf52",
   "metadata": {
    "tags": []
   },
   "outputs": [
    {
     "name": "stdout",
     "output_type": "stream",
     "text": [
      "\n",
      "Job Name:  preprocess-intel-dataset-2022-12-10-11-33-20-711\n",
      "Inputs:  [{'InputName': 'data', 'AppManaged': False, 'S3Input': {'S3Uri': 's3://sagemaker-ap-south-1-294495367161/intel_imageclf.zip', 'LocalPath': '/opt/ml/processing/input', 'S3DataType': 'S3Prefix', 'S3InputMode': 'File', 'S3DataDistributionType': 'FullyReplicated', 'S3CompressionType': 'None'}}, {'InputName': 'code', 'AppManaged': False, 'S3Input': {'S3Uri': 's3://sagemaker-ap-south-1-294495367161/preprocess-intel-dataset-2022-12-10-11-33-20-711/source/sourcedir.tar.gz', 'LocalPath': '/opt/ml/processing/input/code/', 'S3DataType': 'S3Prefix', 'S3InputMode': 'File', 'S3DataDistributionType': 'FullyReplicated', 'S3CompressionType': 'None'}}, {'InputName': 'entrypoint', 'AppManaged': False, 'S3Input': {'S3Uri': 's3://sagemaker-ap-south-1-294495367161/preprocess-intel-dataset-2022-12-10-11-33-20-711/source/runproc.sh', 'LocalPath': '/opt/ml/processing/input/entrypoint', 'S3DataType': 'S3Prefix', 'S3InputMode': 'File', 'S3DataDistributionType': 'FullyReplicated', 'S3CompressionType': 'None'}}]\n",
      "Outputs:  []\n",
      "...........................................\u001b[34mWARNING: Skipping typing as it is not installed.\u001b[0m\n",
      "\u001b[34mWARNING: Running pip as the 'root' user can result in broken permissions and conflicting behaviour with the system package manager. It is recommended to use a virtual environment instead: https://pip.pypa.io/warnings/venv\u001b[0m\n",
      "\u001b[34mRequirement already satisfied: dvc==2.8.3 in /opt/conda/lib/python3.8/site-packages (from -r requirements.txt (line 1)) (2.8.3)\u001b[0m\n",
      "\u001b[34mRequirement already satisfied: s3fs==2021.11.0 in /opt/conda/lib/python3.8/site-packages (from -r requirements.txt (line 2)) (2021.11.0)\u001b[0m\n",
      "\u001b[34mRequirement already satisfied: git-remote-codecommit in /opt/conda/lib/python3.8/site-packages (from -r requirements.txt (line 4)) (1.16)\u001b[0m\n",
      "\u001b[34mRequirement already satisfied: sagemaker-experiments in /opt/conda/lib/python3.8/site-packages (from -r requirements.txt (line 5)) (0.1.39)\u001b[0m\n",
      "\u001b[34mRequirement already satisfied: gitpython in /opt/conda/lib/python3.8/site-packages (from -r requirements.txt (line 6)) (3.1.29)\u001b[0m\n",
      "\u001b[34mRequirement already satisfied: sklearn in /opt/conda/lib/python3.8/site-packages (from -r requirements.txt (line 7)) (0.0.post1)\u001b[0m\n",
      "\u001b[34mRequirement already satisfied: pytorch-lightning in /opt/conda/lib/python3.8/site-packages (from -r requirements.txt (line 8)) (1.8.3.post1)\u001b[0m\n",
      "\u001b[34mRequirement already satisfied: timm in /opt/conda/lib/python3.8/site-packages (from -r requirements.txt (line 9)) (0.6.12)\u001b[0m\n",
      "\u001b[34mRequirement already satisfied: dulwich>=0.20.23 in /opt/conda/lib/python3.8/site-packages (from dvc==2.8.3->-r requirements.txt (line 1)) (0.20.50)\u001b[0m\n",
      "\u001b[34mRequirement already satisfied: ruamel.yaml>=0.17.11 in /opt/conda/lib/python3.8/site-packages (from dvc==2.8.3->-r requirements.txt (line 1)) (0.17.21)\u001b[0m\n",
      "\u001b[34mRequirement already satisfied: funcy>=1.14 in /opt/conda/lib/python3.8/site-packages (from dvc==2.8.3->-r requirements.txt (line 1)) (1.17)\u001b[0m\n",
      "\u001b[34mRequirement already satisfied: pyparsing>=2.4.7 in /opt/conda/lib/python3.8/site-packages (from dvc==2.8.3->-r requirements.txt (line 1)) (3.0.9)\u001b[0m\n",
      "\u001b[34mRequirement already satisfied: pygit2>=1.5.0 in /opt/conda/lib/python3.8/site-packages (from dvc==2.8.3->-r requirements.txt (line 1)) (1.11.1)\u001b[0m\n",
      "\u001b[34mRequirement already satisfied: python-benedict>=0.24.2 in /opt/conda/lib/python3.8/site-packages (from dvc==2.8.3->-r requirements.txt (line 1)) (0.26.0)\u001b[0m\n",
      "\u001b[34mRequirement already satisfied: toml>=0.10.1 in /opt/conda/lib/python3.8/site-packages (from dvc==2.8.3->-r requirements.txt (line 1)) (0.10.2)\u001b[0m\n",
      "\u001b[34mRequirement already satisfied: networkx>=2.5 in /opt/conda/lib/python3.8/site-packages (from dvc==2.8.3->-r requirements.txt (line 1)) (2.8.8)\u001b[0m\n",
      "\u001b[34mRequirement already satisfied: pathspec<0.10.0,>=0.9.0 in /opt/conda/lib/python3.8/site-packages (from dvc==2.8.3->-r requirements.txt (line 1)) (0.9.0)\u001b[0m\n",
      "\u001b[34mRequirement already satisfied: psutil>=5.8.0 in /opt/conda/lib/python3.8/site-packages (from dvc==2.8.3->-r requirements.txt (line 1)) (5.9.4)\u001b[0m\n",
      "\u001b[34mRequirement already satisfied: pydot>=1.2.4 in /opt/conda/lib/python3.8/site-packages (from dvc==2.8.3->-r requirements.txt (line 1)) (1.4.2)\u001b[0m\n",
      "\u001b[34mRequirement already satisfied: flatten-dict<1,>=0.4.1 in /opt/conda/lib/python3.8/site-packages (from dvc==2.8.3->-r requirements.txt (line 1)) (0.4.2)\u001b[0m\n",
      "\u001b[34mRequirement already satisfied: aiohttp-retry>=2.4.5 in /opt/conda/lib/python3.8/site-packages (from dvc==2.8.3->-r requirements.txt (line 1)) (2.8.3)\u001b[0m\n",
      "\u001b[34mRequirement already satisfied: colorama>=0.3.9 in /opt/conda/lib/python3.8/site-packages (from dvc==2.8.3->-r requirements.txt (line 1)) (0.4.4)\u001b[0m\n",
      "\u001b[34mRequirement already satisfied: distro>=1.3.0 in /opt/conda/lib/python3.8/site-packages (from dvc==2.8.3->-r requirements.txt (line 1)) (1.8.0)\u001b[0m\n",
      "\u001b[34mRequirement already satisfied: appdirs>=1.4.3 in /opt/conda/lib/python3.8/site-packages (from dvc==2.8.3->-r requirements.txt (line 1)) (1.4.4)\u001b[0m\n",
      "\u001b[34mRequirement already satisfied: dpath<3,>=2.0.2 in /opt/conda/lib/python3.8/site-packages (from dvc==2.8.3->-r requirements.txt (line 1)) (2.1.2)\u001b[0m\n",
      "\u001b[34mRequirement already satisfied: zc.lockfile>=1.2.1 in /opt/conda/lib/python3.8/site-packages (from dvc==2.8.3->-r requirements.txt (line 1)) (2.0)\u001b[0m\n",
      "\u001b[34mRequirement already satisfied: fsspec[http]>=2021.10.1 in /opt/conda/lib/python3.8/site-packages (from dvc==2.8.3->-r requirements.txt (line 1)) (2021.11.0)\u001b[0m\n",
      "\u001b[34mRequirement already satisfied: pygtrie>=2.3.2 in /opt/conda/lib/python3.8/site-packages (from dvc==2.8.3->-r requirements.txt (line 1)) (2.5.0)\u001b[0m\n",
      "\u001b[34mRequirement already satisfied: tqdm<5,>=4.45.0 in /opt/conda/lib/python3.8/site-packages (from dvc==2.8.3->-r requirements.txt (line 1)) (4.64.1)\u001b[0m\n",
      "\u001b[34mRequirement already satisfied: grandalf==0.6 in /opt/conda/lib/python3.8/site-packages (from dvc==2.8.3->-r requirements.txt (line 1)) (0.6)\u001b[0m\n",
      "\u001b[34mRequirement already satisfied: nanotime>=0.5.2 in /opt/conda/lib/python3.8/site-packages (from dvc==2.8.3->-r requirements.txt (line 1)) (0.5.2)\u001b[0m\n",
      "\u001b[34mRequirement already satisfied: ply>=3.9 in /opt/conda/lib/python3.8/site-packages (from dvc==2.8.3->-r requirements.txt (line 1)) (3.11)\u001b[0m\n",
      "\u001b[34mRequirement already satisfied: shtab<2,>=1.3.4 in /opt/conda/lib/python3.8/site-packages (from dvc==2.8.3->-r requirements.txt (line 1)) (1.5.8)\u001b[0m\n",
      "\u001b[34mRequirement already satisfied: pyasn1>=0.4.1 in /opt/conda/lib/python3.8/site-packages (from dvc==2.8.3->-r requirements.txt (line 1)) (0.4.8)\u001b[0m\n",
      "\u001b[34mRequirement already satisfied: dictdiffer>=0.8.1 in /opt/conda/lib/python3.8/site-packages (from dvc==2.8.3->-r requirements.txt (line 1)) (0.9.0)\u001b[0m\n",
      "\u001b[34mRequirement already satisfied: shortuuid>=0.5.0 in /opt/conda/lib/python3.8/site-packages (from dvc==2.8.3->-r requirements.txt (line 1)) (1.0.11)\u001b[0m\n",
      "\u001b[34mRequirement already satisfied: rich>=10.13.0 in /opt/conda/lib/python3.8/site-packages (from dvc==2.8.3->-r requirements.txt (line 1)) (12.6.0)\u001b[0m\n",
      "\u001b[34mRequirement already satisfied: voluptuous>=0.11.7 in /opt/conda/lib/python3.8/site-packages (from dvc==2.8.3->-r requirements.txt (line 1)) (0.13.1)\u001b[0m\n",
      "\u001b[34mRequirement already satisfied: diskcache>=5.2.1 in /opt/conda/lib/python3.8/site-packages (from dvc==2.8.3->-r requirements.txt (line 1)) (5.4.0)\u001b[0m\n",
      "\u001b[34mRequirement already satisfied: packaging>=19.0 in /opt/conda/lib/python3.8/site-packages (from dvc==2.8.3->-r requirements.txt (line 1)) (21.3)\u001b[0m\n",
      "\u001b[34mRequirement already satisfied: typing-extensions>=3.7.4 in /opt/conda/lib/python3.8/site-packages (from dvc==2.8.3->-r requirements.txt (line 1)) (4.4.0)\u001b[0m\n",
      "\u001b[34mRequirement already satisfied: tabulate>=0.8.7 in /opt/conda/lib/python3.8/site-packages (from dvc==2.8.3->-r requirements.txt (line 1)) (0.9.0)\u001b[0m\n",
      "\u001b[34mRequirement already satisfied: importlib-resources>=5.2.2 in /opt/conda/lib/python3.8/site-packages (from dvc==2.8.3->-r requirements.txt (line 1)) (5.10.0)\u001b[0m\n",
      "\u001b[34mRequirement already satisfied: flufl.lock>=5 in /opt/conda/lib/python3.8/site-packages (from dvc==2.8.3->-r requirements.txt (line 1)) (7.1.1)\u001b[0m\n",
      "\u001b[34mRequirement already satisfied: requests>=2.22.0 in /opt/conda/lib/python3.8/site-packages (from dvc==2.8.3->-r requirements.txt (line 1)) (2.28.1)\u001b[0m\n",
      "\u001b[34mRequirement already satisfied: configobj>=5.0.6 in /opt/conda/lib/python3.8/site-packages (from dvc==2.8.3->-r requirements.txt (line 1)) (5.0.6)\u001b[0m\n",
      "\u001b[34mRequirement already satisfied: aiobotocore~=1.4.1 in /opt/conda/lib/python3.8/site-packages (from s3fs==2021.11.0->-r requirements.txt (line 2)) (1.4.2)\u001b[0m\n",
      "\u001b[34mRequirement already satisfied: aiohttp>=3.7.1 in /opt/conda/lib/python3.8/site-packages (from s3fs==2021.11.0->-r requirements.txt (line 2)) (3.8.3)\u001b[0m\n",
      "\u001b[34mRequirement already satisfied: future in /opt/conda/lib/python3.8/site-packages (from grandalf==0.6->dvc==2.8.3->-r requirements.txt (line 1)) (0.18.2)\u001b[0m\n",
      "\u001b[34mRequirement already satisfied: botocore>=1.17.0 in /opt/conda/lib/python3.8/site-packages (from git-remote-codecommit->-r requirements.txt (line 4)) (1.20.106)\u001b[0m\n",
      "\u001b[34mRequirement already satisfied: boto3>=1.16.27 in /opt/conda/lib/python3.8/site-packages (from sagemaker-experiments->-r requirements.txt (line 5)) (1.17.106)\u001b[0m\n",
      "\u001b[34mRequirement already satisfied: gitdb<5,>=4.0.1 in /opt/conda/lib/python3.8/site-packages (from gitpython->-r requirements.txt (line 6)) (4.0.10)\u001b[0m\n",
      "\u001b[34mRequirement already satisfied: PyYAML>=5.4 in /opt/conda/lib/python3.8/site-packages (from pytorch-lightning->-r requirements.txt (line 8)) (6.0)\u001b[0m\n",
      "\u001b[34mRequirement already satisfied: torchmetrics>=0.7.0 in /opt/conda/lib/python3.8/site-packages (from pytorch-lightning->-r requirements.txt (line 8)) (0.11.0)\u001b[0m\n",
      "\u001b[34mRequirement already satisfied: torch>=1.9.* in /opt/conda/lib/python3.8/site-packages (from pytorch-lightning->-r requirements.txt (line 8)) (1.12.1+cu113)\u001b[0m\n",
      "\u001b[34mRequirement already satisfied: numpy>=1.17.2 in /opt/conda/lib/python3.8/site-packages (from pytorch-lightning->-r requirements.txt (line 8)) (1.23.4)\u001b[0m\n",
      "\u001b[34mRequirement already satisfied: lightning-utilities==0.3.* in /opt/conda/lib/python3.8/site-packages (from pytorch-lightning->-r requirements.txt (line 8)) (0.3.0)\u001b[0m\n",
      "\u001b[34mRequirement already satisfied: tensorboardX>=2.2 in /opt/conda/lib/python3.8/site-packages (from pytorch-lightning->-r requirements.txt (line 8)) (2.5.1)\u001b[0m\n",
      "\u001b[34mRequirement already satisfied: fire in /opt/conda/lib/python3.8/site-packages (from lightning-utilities==0.3.*->pytorch-lightning->-r requirements.txt (line 8)) (0.4.0)\u001b[0m\n",
      "\u001b[34mRequirement already satisfied: torchvision in /opt/conda/lib/python3.8/site-packages (from timm->-r requirements.txt (line 9)) (0.13.1+cu113)\u001b[0m\n",
      "\u001b[34mRequirement already satisfied: huggingface-hub in /opt/conda/lib/python3.8/site-packages (from timm->-r requirements.txt (line 9)) (0.11.1)\u001b[0m\n",
      "\u001b[34mRequirement already satisfied: wrapt>=1.10.10 in /opt/conda/lib/python3.8/site-packages (from aiobotocore~=1.4.1->s3fs==2021.11.0->-r requirements.txt (line 2)) (1.14.1)\u001b[0m\n",
      "\u001b[34mRequirement already satisfied: aioitertools>=0.5.1 in /opt/conda/lib/python3.8/site-packages (from aiobotocore~=1.4.1->s3fs==2021.11.0->-r requirements.txt (line 2)) (0.11.0)\u001b[0m\n",
      "\u001b[34mRequirement already satisfied: frozenlist>=1.1.1 in /opt/conda/lib/python3.8/site-packages (from aiohttp>=3.7.1->s3fs==2021.11.0->-r requirements.txt (line 2)) (1.3.3)\u001b[0m\n",
      "\u001b[34mRequirement already satisfied: async-timeout<5.0,>=4.0.0a3 in /opt/conda/lib/python3.8/site-packages (from aiohttp>=3.7.1->s3fs==2021.11.0->-r requirements.txt (line 2)) (4.0.2)\u001b[0m\n",
      "\u001b[34mRequirement already satisfied: multidict<7.0,>=4.5 in /opt/conda/lib/python3.8/site-packages (from aiohttp>=3.7.1->s3fs==2021.11.0->-r requirements.txt (line 2)) (6.0.3)\u001b[0m\n",
      "\u001b[34mRequirement already satisfied: yarl<2.0,>=1.0 in /opt/conda/lib/python3.8/site-packages (from aiohttp>=3.7.1->s3fs==2021.11.0->-r requirements.txt (line 2)) (1.8.2)\u001b[0m\n",
      "\u001b[34mRequirement already satisfied: aiosignal>=1.1.2 in /opt/conda/lib/python3.8/site-packages (from aiohttp>=3.7.1->s3fs==2021.11.0->-r requirements.txt (line 2)) (1.3.1)\u001b[0m\n",
      "\u001b[34mRequirement already satisfied: attrs>=17.3.0 in /opt/conda/lib/python3.8/site-packages (from aiohttp>=3.7.1->s3fs==2021.11.0->-r requirements.txt (line 2)) (22.1.0)\u001b[0m\n",
      "\u001b[34mRequirement already satisfied: charset-normalizer<3.0,>=2.0 in /opt/conda/lib/python3.8/site-packages (from aiohttp>=3.7.1->s3fs==2021.11.0->-r requirements.txt (line 2)) (2.1.1)\u001b[0m\n",
      "\u001b[34mRequirement already satisfied: s3transfer<0.5.0,>=0.4.0 in /opt/conda/lib/python3.8/site-packages (from boto3>=1.16.27->sagemaker-experiments->-r requirements.txt (line 5)) (0.4.2)\u001b[0m\n",
      "\u001b[34mRequirement already satisfied: jmespath<1.0.0,>=0.7.1 in /opt/conda/lib/python3.8/site-packages (from boto3>=1.16.27->sagemaker-experiments->-r requirements.txt (line 5)) (0.10.0)\u001b[0m\n",
      "\u001b[34mRequirement already satisfied: python-dateutil<3.0.0,>=2.1 in /opt/conda/lib/python3.8/site-packages (from botocore>=1.17.0->git-remote-codecommit->-r requirements.txt (line 4)) (2.8.2)\u001b[0m\n",
      "\u001b[34mRequirement already satisfied: urllib3<1.27,>=1.25.4 in /opt/conda/lib/python3.8/site-packages (from botocore>=1.17.0->git-remote-codecommit->-r requirements.txt (line 4)) (1.26.11)\u001b[0m\n",
      "\u001b[34mRequirement already satisfied: six in /opt/conda/lib/python3.8/site-packages (from configobj>=5.0.6->dvc==2.8.3->-r requirements.txt (line 1)) (1.16.0)\u001b[0m\n",
      "\u001b[34mRequirement already satisfied: atpublic>=2.3 in /opt/conda/lib/python3.8/site-packages (from flufl.lock>=5->dvc==2.8.3->-r requirements.txt (line 1)) (3.1.1)\u001b[0m\n",
      "\u001b[34mRequirement already satisfied: smmap<6,>=3.0.1 in /opt/conda/lib/python3.8/site-packages (from gitdb<5,>=4.0.1->gitpython->-r requirements.txt (line 6)) (5.0.0)\u001b[0m\n",
      "\u001b[34mRequirement already satisfied: zipp>=3.1.0 in /opt/conda/lib/python3.8/site-packages (from importlib-resources>=5.2.2->dvc==2.8.3->-r requirements.txt (line 1)) (3.10.0)\u001b[0m\n",
      "\u001b[34mRequirement already satisfied: cffi>=1.9.1 in /opt/conda/lib/python3.8/site-packages (from pygit2>=1.5.0->dvc==2.8.3->-r requirements.txt (line 1)) (1.15.1)\u001b[0m\n",
      "\u001b[34mRequirement already satisfied: ftfy<7.0.0,>=6.0.0 in /opt/conda/lib/python3.8/site-packages (from python-benedict>=0.24.2->dvc==2.8.3->-r requirements.txt (line 1)) (6.1.1)\u001b[0m\n",
      "\u001b[34mRequirement already satisfied: xlrd<3.0.0,>=2.0.0 in /opt/conda/lib/python3.8/site-packages (from python-benedict>=0.24.2->dvc==2.8.3->-r requirements.txt (line 1)) (2.0.1)\u001b[0m\n",
      "\u001b[34mRequirement already satisfied: openpyxl<4.0.0,>=3.0.0 in /opt/conda/lib/python3.8/site-packages (from python-benedict>=0.24.2->dvc==2.8.3->-r requirements.txt (line 1)) (3.0.10)\u001b[0m\n",
      "\u001b[34mRequirement already satisfied: phonenumbers<9.0.0,>=8.12.0 in /opt/conda/lib/python3.8/site-packages (from python-benedict>=0.24.2->dvc==2.8.3->-r requirements.txt (line 1)) (8.13.1)\u001b[0m\n",
      "\u001b[34mRequirement already satisfied: python-slugify<7.0.0,>=6.0.1 in /opt/conda/lib/python3.8/site-packages (from python-benedict>=0.24.2->dvc==2.8.3->-r requirements.txt (line 1)) (6.1.2)\u001b[0m\n",
      "\u001b[34mRequirement already satisfied: mailchecker<6.0.0,>=4.1.0 in /opt/conda/lib/python3.8/site-packages (from python-benedict>=0.24.2->dvc==2.8.3->-r requirements.txt (line 1)) (5.0.4)\u001b[0m\n",
      "\u001b[34mRequirement already satisfied: python-fsutil<1.0.0,>=0.6.0 in /opt/conda/lib/python3.8/site-packages (from python-benedict>=0.24.2->dvc==2.8.3->-r requirements.txt (line 1)) (0.7.0)\u001b[0m\n",
      "\u001b[34mRequirement already satisfied: xmltodict<1.0.0,>=0.12.0 in /opt/conda/lib/python3.8/site-packages (from python-benedict>=0.24.2->dvc==2.8.3->-r requirements.txt (line 1)) (0.13.0)\u001b[0m\n",
      "\u001b[34mRequirement already satisfied: certifi>=2017.4.17 in /opt/conda/lib/python3.8/site-packages (from requests>=2.22.0->dvc==2.8.3->-r requirements.txt (line 1)) (2022.9.24)\u001b[0m\n",
      "\u001b[34mRequirement already satisfied: idna<4,>=2.5 in /opt/conda/lib/python3.8/site-packages (from requests>=2.22.0->dvc==2.8.3->-r requirements.txt (line 1)) (3.4)\u001b[0m\n",
      "\u001b[34mRequirement already satisfied: commonmark<0.10.0,>=0.9.0 in /opt/conda/lib/python3.8/site-packages (from rich>=10.13.0->dvc==2.8.3->-r requirements.txt (line 1)) (0.9.1)\u001b[0m\n",
      "\u001b[34mRequirement already satisfied: pygments<3.0.0,>=2.6.0 in /opt/conda/lib/python3.8/site-packages (from rich>=10.13.0->dvc==2.8.3->-r requirements.txt (line 1)) (2.13.0)\u001b[0m\n",
      "\u001b[34mRequirement already satisfied: ruamel.yaml.clib>=0.2.6 in /opt/conda/lib/python3.8/site-packages (from ruamel.yaml>=0.17.11->dvc==2.8.3->-r requirements.txt (line 1)) (0.2.7)\u001b[0m\n",
      "\u001b[34mRequirement already satisfied: protobuf<=3.20.1,>=3.8.0 in /opt/conda/lib/python3.8/site-packages (from tensorboardX>=2.2->pytorch-lightning->-r requirements.txt (line 8)) (3.19.6)\u001b[0m\n",
      "\u001b[34mRequirement already satisfied: setuptools in /opt/conda/lib/python3.8/site-packages (from zc.lockfile>=1.2.1->dvc==2.8.3->-r requirements.txt (line 1)) (65.5.1)\u001b[0m\n",
      "\u001b[34mRequirement already satisfied: filelock in /opt/conda/lib/python3.8/site-packages (from huggingface-hub->timm->-r requirements.txt (line 9)) (3.8.2)\u001b[0m\n",
      "\u001b[34mRequirement already satisfied: pillow!=8.3.*,>=5.3.0 in /opt/conda/lib/python3.8/site-packages (from torchvision->timm->-r requirements.txt (line 9)) (9.3.0)\u001b[0m\n",
      "\u001b[34mRequirement already satisfied: pycparser in /opt/conda/lib/python3.8/site-packages (from cffi>=1.9.1->pygit2>=1.5.0->dvc==2.8.3->-r requirements.txt (line 1)) (2.21)\u001b[0m\n",
      "\u001b[34mRequirement already satisfied: wcwidth>=0.2.5 in /opt/conda/lib/python3.8/site-packages (from ftfy<7.0.0,>=6.0.0->python-benedict>=0.24.2->dvc==2.8.3->-r requirements.txt (line 1)) (0.2.5)\u001b[0m\n",
      "\u001b[34mRequirement already satisfied: et-xmlfile in /opt/conda/lib/python3.8/site-packages (from openpyxl<4.0.0,>=3.0.0->python-benedict>=0.24.2->dvc==2.8.3->-r requirements.txt (line 1)) (1.1.0)\u001b[0m\n",
      "\u001b[34mRequirement already satisfied: text-unidecode>=1.3 in /opt/conda/lib/python3.8/site-packages (from python-slugify<7.0.0,>=6.0.1->python-benedict>=0.24.2->dvc==2.8.3->-r requirements.txt (line 1)) (1.3)\u001b[0m\n",
      "\u001b[34mRequirement already satisfied: termcolor in /opt/conda/lib/python3.8/site-packages (from fire->lightning-utilities==0.3.*->pytorch-lightning->-r requirements.txt (line 8)) (2.1.1)\u001b[0m\n",
      "\u001b[34mWARNING: Running pip as the 'root' user can result in broken permissions and conflicting behaviour with the system package manager. It is recommended to use a virtual environment instead: https://pip.pypa.io/warnings/venv\u001b[0m\n",
      "\u001b[34m:: Configuring Git\u001b[0m\n",
      "\u001b[34m:: Cloning Git\u001b[0m\n",
      "\u001b[34m#011:: Cloning repo: codecommit::ap-south-1://sagemaker-imageclf\u001b[0m\n",
      "\u001b[34m:: Generate Train Test Split\u001b[0m\n",
      "\u001b[34m:: Extracting Zip /opt/ml/processing/input/intel_imageclf.zip to /opt/ml/processing/intel-image-classification\u001b[0m\n",
      "\u001b[34m:: Dataset Class Counts:  Counter({'mountain': 3037, 'glacier': 2957, 'street': 2883, 'sea': 2784, 'forest': 2745, 'buildings': 2628})\u001b[0m\n",
      "\u001b[34m#011:: Train Dataset Class Counts:  Counter({'mountain': 2126, 'glacier': 2070, 'street': 2018, 'sea': 1949, 'forest': 1921, 'buildings': 1839})\u001b[0m\n",
      "\u001b[34m#011:: Test Dataset Class Counts:  Counter({'mountain': 455, 'glacier': 443, 'street': 432, 'sea': 418, 'forest': 412, 'buildings': 395})\u001b[0m\n",
      "\u001b[34m#011:: Val Dataset Class Counts:  Counter({'mountain': 456, 'glacier': 444, 'street': 433, 'sea': 417, 'forest': 412, 'buildings': 394})\u001b[0m\n",
      "\u001b[34m#011:: Total validation images 7301\u001b[0m\n",
      "\u001b[34m#011:: Creating Directory /opt/ml/processing/sagemaker-intelimageclf/dataset/train\u001b[0m\n",
      "\u001b[34m#011:: Creating Directory /opt/ml/processing/sagemaker-intelimageclf/dataset/test\u001b[0m\n",
      "\u001b[34m#011:: Creating Directory /opt/ml/processing/sagemaker-intelimageclf/dataset/val\u001b[0m\n",
      "\u001b[34m:: Writing Datasets\u001b[0m\n",
      "\u001b[34m:: Sync Processed Data to Git & DVC\u001b[0m\n",
      "\u001b[34m:: Create branch processed-dataset\u001b[0m\n",
      "\u001b[34m#011:: Create a new branch: processed-dataset\u001b[0m\n",
      "\u001b[34m:: Add files to DVC\u001b[0m\n",
      "\u001b[34mTo track the changes with git, run:\u001b[0m\n",
      "\u001b[34m#011git add .gitignore dataset.dvc\u001b[0m\n",
      "\u001b[34m#011:: Push data to DVC\u001b[0m\n",
      "\n",
      "\u001b[34m1 file pushed\u001b[0m\n",
      "\u001b[34m#011:: Push dvc metadata to git\u001b[0m\n",
      "\u001b[34m:: Commit Hash: 1c5ea2414b4b9656ccdd706a079456049d03d8dd\u001b[0m\n",
      "\u001b[34m:: Finished..\u001b[0m\n"
     ]
    }
   ],
   "source": [
    "pytorch_processor.run(\n",
    "    code=\"preprocess.py\",\n",
    "    source_dir=\"/root/emlov2-session-12/\",\n",
    "    inputs=[\n",
    "        ProcessingInput(\n",
    "            input_name=\"data\",\n",
    "            source=input_dataset,\n",
    "            destination=\"/opt/ml/processing/input\",\n",
    "        )\n",
    "    ],\n",
    ")"
   ]
  },
  {
   "cell_type": "code",
   "execution_count": null,
   "id": "14c53de5-7a34-4f85-8ce9-44c7788c5918",
   "metadata": {},
   "outputs": [],
   "source": []
  }
 ],
 "metadata": {
  "instance_type": "ml.t3.medium",
  "kernelspec": {
   "display_name": "Python 3 (PyTorch 1.12 Python 3.8 CPU Optimized)",
   "language": "python",
   "name": "python3__SAGEMAKER_INTERNAL__arn:aws:sagemaker:ap-south-1:394103062818:image/pytorch-1.12-cpu-py38"
  },
  "language_info": {
   "codemirror_mode": {
    "name": "ipython",
    "version": 3
   },
   "file_extension": ".py",
   "mimetype": "text/x-python",
   "name": "python",
   "nbconvert_exporter": "python",
   "pygments_lexer": "ipython3",
   "version": "3.8.13"
  }
 },
 "nbformat": 4,
 "nbformat_minor": 5
}
